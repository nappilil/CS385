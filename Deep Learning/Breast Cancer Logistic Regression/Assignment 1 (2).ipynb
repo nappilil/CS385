{
 "cells": [
  {
   "cell_type": "markdown",
   "metadata": {},
   "source": [
    "# HM1: Logistic Regression.\n",
    "\n",
    "### Name: Lilli Nappi\n"
   ]
  },
  {
   "cell_type": "markdown",
   "metadata": {},
   "source": [
    "#### For this assignment, you will build 6 models. You need to train Logistic Regression/Regularized Logistic Regression each with Batch Gradient Descent, Stochastic Gradient Descent and Mini Batch Gradient Descent. Also you should plot their objective values versus epochs and compare their training and testing accuracies. You will need to tune the parameters a little bit to obtain reasonable results.\n",
    "\n",
    "#### You do not have to follow the following procedure. You may implement your own functions and methods, but you need to show your results and plots."
   ]
  },
  {
   "cell_type": "code",
   "execution_count": 594,
   "metadata": {},
   "outputs": [],
   "source": [
    "import pandas as pd\n",
    "import numpy\n",
    "from sklearn.model_selection import train_test_split\n",
    "\n"
   ]
  },
  {
   "cell_type": "markdown",
   "metadata": {},
   "source": [
    "# 1. Data processing\n",
    "\n",
    "- Download the Breast Cancer dataset from canvas or from https://archive.ics.uci.edu/ml/datasets/breast+cancer+wisconsin+(diagnostic)\n",
    "- Load the data.\n",
    "- Preprocess the data."
   ]
  },
  {
   "cell_type": "markdown",
   "metadata": {},
   "source": [
    "## 1.1. Load the data"
   ]
  },
  {
   "cell_type": "code",
   "execution_count": 595,
   "metadata": {},
   "outputs": [
    {
     "data": {
      "text/html": [
       "<div>\n",
       "<style scoped>\n",
       "    .dataframe tbody tr th:only-of-type {\n",
       "        vertical-align: middle;\n",
       "    }\n",
       "\n",
       "    .dataframe tbody tr th {\n",
       "        vertical-align: top;\n",
       "    }\n",
       "\n",
       "    .dataframe thead th {\n",
       "        text-align: right;\n",
       "    }\n",
       "</style>\n",
       "<table border=\"1\" class=\"dataframe\">\n",
       "  <thead>\n",
       "    <tr style=\"text-align: right;\">\n",
       "      <th></th>\n",
       "      <th>id</th>\n",
       "      <th>diagnosis</th>\n",
       "      <th>radius_mean</th>\n",
       "      <th>texture_mean</th>\n",
       "      <th>perimeter_mean</th>\n",
       "      <th>area_mean</th>\n",
       "      <th>smoothness_mean</th>\n",
       "      <th>compactness_mean</th>\n",
       "      <th>concavity_mean</th>\n",
       "      <th>concave points_mean</th>\n",
       "      <th>...</th>\n",
       "      <th>texture_worst</th>\n",
       "      <th>perimeter_worst</th>\n",
       "      <th>area_worst</th>\n",
       "      <th>smoothness_worst</th>\n",
       "      <th>compactness_worst</th>\n",
       "      <th>concavity_worst</th>\n",
       "      <th>concave points_worst</th>\n",
       "      <th>symmetry_worst</th>\n",
       "      <th>fractal_dimension_worst</th>\n",
       "      <th>Unnamed: 32</th>\n",
       "    </tr>\n",
       "  </thead>\n",
       "  <tbody>\n",
       "    <tr>\n",
       "      <th>0</th>\n",
       "      <td>842302</td>\n",
       "      <td>M</td>\n",
       "      <td>17.99</td>\n",
       "      <td>10.38</td>\n",
       "      <td>122.80</td>\n",
       "      <td>1001.0</td>\n",
       "      <td>0.11840</td>\n",
       "      <td>0.27760</td>\n",
       "      <td>0.3001</td>\n",
       "      <td>0.14710</td>\n",
       "      <td>...</td>\n",
       "      <td>17.33</td>\n",
       "      <td>184.60</td>\n",
       "      <td>2019.0</td>\n",
       "      <td>0.1622</td>\n",
       "      <td>0.6656</td>\n",
       "      <td>0.7119</td>\n",
       "      <td>0.2654</td>\n",
       "      <td>0.4601</td>\n",
       "      <td>0.11890</td>\n",
       "      <td>NaN</td>\n",
       "    </tr>\n",
       "    <tr>\n",
       "      <th>1</th>\n",
       "      <td>842517</td>\n",
       "      <td>M</td>\n",
       "      <td>20.57</td>\n",
       "      <td>17.77</td>\n",
       "      <td>132.90</td>\n",
       "      <td>1326.0</td>\n",
       "      <td>0.08474</td>\n",
       "      <td>0.07864</td>\n",
       "      <td>0.0869</td>\n",
       "      <td>0.07017</td>\n",
       "      <td>...</td>\n",
       "      <td>23.41</td>\n",
       "      <td>158.80</td>\n",
       "      <td>1956.0</td>\n",
       "      <td>0.1238</td>\n",
       "      <td>0.1866</td>\n",
       "      <td>0.2416</td>\n",
       "      <td>0.1860</td>\n",
       "      <td>0.2750</td>\n",
       "      <td>0.08902</td>\n",
       "      <td>NaN</td>\n",
       "    </tr>\n",
       "    <tr>\n",
       "      <th>2</th>\n",
       "      <td>84300903</td>\n",
       "      <td>M</td>\n",
       "      <td>19.69</td>\n",
       "      <td>21.25</td>\n",
       "      <td>130.00</td>\n",
       "      <td>1203.0</td>\n",
       "      <td>0.10960</td>\n",
       "      <td>0.15990</td>\n",
       "      <td>0.1974</td>\n",
       "      <td>0.12790</td>\n",
       "      <td>...</td>\n",
       "      <td>25.53</td>\n",
       "      <td>152.50</td>\n",
       "      <td>1709.0</td>\n",
       "      <td>0.1444</td>\n",
       "      <td>0.4245</td>\n",
       "      <td>0.4504</td>\n",
       "      <td>0.2430</td>\n",
       "      <td>0.3613</td>\n",
       "      <td>0.08758</td>\n",
       "      <td>NaN</td>\n",
       "    </tr>\n",
       "    <tr>\n",
       "      <th>3</th>\n",
       "      <td>84348301</td>\n",
       "      <td>M</td>\n",
       "      <td>11.42</td>\n",
       "      <td>20.38</td>\n",
       "      <td>77.58</td>\n",
       "      <td>386.1</td>\n",
       "      <td>0.14250</td>\n",
       "      <td>0.28390</td>\n",
       "      <td>0.2414</td>\n",
       "      <td>0.10520</td>\n",
       "      <td>...</td>\n",
       "      <td>26.50</td>\n",
       "      <td>98.87</td>\n",
       "      <td>567.7</td>\n",
       "      <td>0.2098</td>\n",
       "      <td>0.8663</td>\n",
       "      <td>0.6869</td>\n",
       "      <td>0.2575</td>\n",
       "      <td>0.6638</td>\n",
       "      <td>0.17300</td>\n",
       "      <td>NaN</td>\n",
       "    </tr>\n",
       "    <tr>\n",
       "      <th>4</th>\n",
       "      <td>84358402</td>\n",
       "      <td>M</td>\n",
       "      <td>20.29</td>\n",
       "      <td>14.34</td>\n",
       "      <td>135.10</td>\n",
       "      <td>1297.0</td>\n",
       "      <td>0.10030</td>\n",
       "      <td>0.13280</td>\n",
       "      <td>0.1980</td>\n",
       "      <td>0.10430</td>\n",
       "      <td>...</td>\n",
       "      <td>16.67</td>\n",
       "      <td>152.20</td>\n",
       "      <td>1575.0</td>\n",
       "      <td>0.1374</td>\n",
       "      <td>0.2050</td>\n",
       "      <td>0.4000</td>\n",
       "      <td>0.1625</td>\n",
       "      <td>0.2364</td>\n",
       "      <td>0.07678</td>\n",
       "      <td>NaN</td>\n",
       "    </tr>\n",
       "  </tbody>\n",
       "</table>\n",
       "<p>5 rows × 33 columns</p>\n",
       "</div>"
      ],
      "text/plain": [
       "         id diagnosis  radius_mean  texture_mean  perimeter_mean  area_mean  \\\n",
       "0    842302         M        17.99         10.38          122.80     1001.0   \n",
       "1    842517         M        20.57         17.77          132.90     1326.0   \n",
       "2  84300903         M        19.69         21.25          130.00     1203.0   \n",
       "3  84348301         M        11.42         20.38           77.58      386.1   \n",
       "4  84358402         M        20.29         14.34          135.10     1297.0   \n",
       "\n",
       "   smoothness_mean  compactness_mean  concavity_mean  concave points_mean  \\\n",
       "0          0.11840           0.27760          0.3001              0.14710   \n",
       "1          0.08474           0.07864          0.0869              0.07017   \n",
       "2          0.10960           0.15990          0.1974              0.12790   \n",
       "3          0.14250           0.28390          0.2414              0.10520   \n",
       "4          0.10030           0.13280          0.1980              0.10430   \n",
       "\n",
       "   ...  texture_worst  perimeter_worst  area_worst  smoothness_worst  \\\n",
       "0  ...          17.33           184.60      2019.0            0.1622   \n",
       "1  ...          23.41           158.80      1956.0            0.1238   \n",
       "2  ...          25.53           152.50      1709.0            0.1444   \n",
       "3  ...          26.50            98.87       567.7            0.2098   \n",
       "4  ...          16.67           152.20      1575.0            0.1374   \n",
       "\n",
       "   compactness_worst  concavity_worst  concave points_worst  symmetry_worst  \\\n",
       "0             0.6656           0.7119                0.2654          0.4601   \n",
       "1             0.1866           0.2416                0.1860          0.2750   \n",
       "2             0.4245           0.4504                0.2430          0.3613   \n",
       "3             0.8663           0.6869                0.2575          0.6638   \n",
       "4             0.2050           0.4000                0.1625          0.2364   \n",
       "\n",
       "   fractal_dimension_worst  Unnamed: 32  \n",
       "0                  0.11890          NaN  \n",
       "1                  0.08902          NaN  \n",
       "2                  0.08758          NaN  \n",
       "3                  0.17300          NaN  \n",
       "4                  0.07678          NaN  \n",
       "\n",
       "[5 rows x 33 columns]"
      ]
     },
     "execution_count": 595,
     "metadata": {},
     "output_type": "execute_result"
    }
   ],
   "source": [
    "data = pd.read_csv('data.csv')\n",
    "data.head()"
   ]
  },
  {
   "cell_type": "markdown",
   "metadata": {},
   "source": [
    "## 1.2 Examine and clean data"
   ]
  },
  {
   "cell_type": "code",
   "execution_count": 596,
   "metadata": {},
   "outputs": [
    {
     "data": {
      "text/html": [
       "<div>\n",
       "<style scoped>\n",
       "    .dataframe tbody tr th:only-of-type {\n",
       "        vertical-align: middle;\n",
       "    }\n",
       "\n",
       "    .dataframe tbody tr th {\n",
       "        vertical-align: top;\n",
       "    }\n",
       "\n",
       "    .dataframe thead th {\n",
       "        text-align: right;\n",
       "    }\n",
       "</style>\n",
       "<table border=\"1\" class=\"dataframe\">\n",
       "  <thead>\n",
       "    <tr style=\"text-align: right;\">\n",
       "      <th></th>\n",
       "      <th>diagnosis</th>\n",
       "      <th>radius_mean</th>\n",
       "      <th>texture_mean</th>\n",
       "      <th>perimeter_mean</th>\n",
       "      <th>area_mean</th>\n",
       "      <th>smoothness_mean</th>\n",
       "      <th>compactness_mean</th>\n",
       "      <th>concavity_mean</th>\n",
       "      <th>concave points_mean</th>\n",
       "      <th>symmetry_mean</th>\n",
       "      <th>...</th>\n",
       "      <th>radius_worst</th>\n",
       "      <th>texture_worst</th>\n",
       "      <th>perimeter_worst</th>\n",
       "      <th>area_worst</th>\n",
       "      <th>smoothness_worst</th>\n",
       "      <th>compactness_worst</th>\n",
       "      <th>concavity_worst</th>\n",
       "      <th>concave points_worst</th>\n",
       "      <th>symmetry_worst</th>\n",
       "      <th>fractal_dimension_worst</th>\n",
       "    </tr>\n",
       "  </thead>\n",
       "  <tbody>\n",
       "    <tr>\n",
       "      <th>0</th>\n",
       "      <td>-1</td>\n",
       "      <td>17.99</td>\n",
       "      <td>10.38</td>\n",
       "      <td>122.80</td>\n",
       "      <td>1001.0</td>\n",
       "      <td>0.11840</td>\n",
       "      <td>0.27760</td>\n",
       "      <td>0.3001</td>\n",
       "      <td>0.14710</td>\n",
       "      <td>0.2419</td>\n",
       "      <td>...</td>\n",
       "      <td>25.38</td>\n",
       "      <td>17.33</td>\n",
       "      <td>184.60</td>\n",
       "      <td>2019.0</td>\n",
       "      <td>0.1622</td>\n",
       "      <td>0.6656</td>\n",
       "      <td>0.7119</td>\n",
       "      <td>0.2654</td>\n",
       "      <td>0.4601</td>\n",
       "      <td>0.11890</td>\n",
       "    </tr>\n",
       "    <tr>\n",
       "      <th>1</th>\n",
       "      <td>-1</td>\n",
       "      <td>20.57</td>\n",
       "      <td>17.77</td>\n",
       "      <td>132.90</td>\n",
       "      <td>1326.0</td>\n",
       "      <td>0.08474</td>\n",
       "      <td>0.07864</td>\n",
       "      <td>0.0869</td>\n",
       "      <td>0.07017</td>\n",
       "      <td>0.1812</td>\n",
       "      <td>...</td>\n",
       "      <td>24.99</td>\n",
       "      <td>23.41</td>\n",
       "      <td>158.80</td>\n",
       "      <td>1956.0</td>\n",
       "      <td>0.1238</td>\n",
       "      <td>0.1866</td>\n",
       "      <td>0.2416</td>\n",
       "      <td>0.1860</td>\n",
       "      <td>0.2750</td>\n",
       "      <td>0.08902</td>\n",
       "    </tr>\n",
       "    <tr>\n",
       "      <th>2</th>\n",
       "      <td>-1</td>\n",
       "      <td>19.69</td>\n",
       "      <td>21.25</td>\n",
       "      <td>130.00</td>\n",
       "      <td>1203.0</td>\n",
       "      <td>0.10960</td>\n",
       "      <td>0.15990</td>\n",
       "      <td>0.1974</td>\n",
       "      <td>0.12790</td>\n",
       "      <td>0.2069</td>\n",
       "      <td>...</td>\n",
       "      <td>23.57</td>\n",
       "      <td>25.53</td>\n",
       "      <td>152.50</td>\n",
       "      <td>1709.0</td>\n",
       "      <td>0.1444</td>\n",
       "      <td>0.4245</td>\n",
       "      <td>0.4504</td>\n",
       "      <td>0.2430</td>\n",
       "      <td>0.3613</td>\n",
       "      <td>0.08758</td>\n",
       "    </tr>\n",
       "    <tr>\n",
       "      <th>3</th>\n",
       "      <td>-1</td>\n",
       "      <td>11.42</td>\n",
       "      <td>20.38</td>\n",
       "      <td>77.58</td>\n",
       "      <td>386.1</td>\n",
       "      <td>0.14250</td>\n",
       "      <td>0.28390</td>\n",
       "      <td>0.2414</td>\n",
       "      <td>0.10520</td>\n",
       "      <td>0.2597</td>\n",
       "      <td>...</td>\n",
       "      <td>14.91</td>\n",
       "      <td>26.50</td>\n",
       "      <td>98.87</td>\n",
       "      <td>567.7</td>\n",
       "      <td>0.2098</td>\n",
       "      <td>0.8663</td>\n",
       "      <td>0.6869</td>\n",
       "      <td>0.2575</td>\n",
       "      <td>0.6638</td>\n",
       "      <td>0.17300</td>\n",
       "    </tr>\n",
       "    <tr>\n",
       "      <th>4</th>\n",
       "      <td>-1</td>\n",
       "      <td>20.29</td>\n",
       "      <td>14.34</td>\n",
       "      <td>135.10</td>\n",
       "      <td>1297.0</td>\n",
       "      <td>0.10030</td>\n",
       "      <td>0.13280</td>\n",
       "      <td>0.1980</td>\n",
       "      <td>0.10430</td>\n",
       "      <td>0.1809</td>\n",
       "      <td>...</td>\n",
       "      <td>22.54</td>\n",
       "      <td>16.67</td>\n",
       "      <td>152.20</td>\n",
       "      <td>1575.0</td>\n",
       "      <td>0.1374</td>\n",
       "      <td>0.2050</td>\n",
       "      <td>0.4000</td>\n",
       "      <td>0.1625</td>\n",
       "      <td>0.2364</td>\n",
       "      <td>0.07678</td>\n",
       "    </tr>\n",
       "  </tbody>\n",
       "</table>\n",
       "<p>5 rows × 31 columns</p>\n",
       "</div>"
      ],
      "text/plain": [
       "   diagnosis  radius_mean  texture_mean  perimeter_mean  area_mean  \\\n",
       "0         -1        17.99         10.38          122.80     1001.0   \n",
       "1         -1        20.57         17.77          132.90     1326.0   \n",
       "2         -1        19.69         21.25          130.00     1203.0   \n",
       "3         -1        11.42         20.38           77.58      386.1   \n",
       "4         -1        20.29         14.34          135.10     1297.0   \n",
       "\n",
       "   smoothness_mean  compactness_mean  concavity_mean  concave points_mean  \\\n",
       "0          0.11840           0.27760          0.3001              0.14710   \n",
       "1          0.08474           0.07864          0.0869              0.07017   \n",
       "2          0.10960           0.15990          0.1974              0.12790   \n",
       "3          0.14250           0.28390          0.2414              0.10520   \n",
       "4          0.10030           0.13280          0.1980              0.10430   \n",
       "\n",
       "   symmetry_mean  ...  radius_worst  texture_worst  perimeter_worst  \\\n",
       "0         0.2419  ...         25.38          17.33           184.60   \n",
       "1         0.1812  ...         24.99          23.41           158.80   \n",
       "2         0.2069  ...         23.57          25.53           152.50   \n",
       "3         0.2597  ...         14.91          26.50            98.87   \n",
       "4         0.1809  ...         22.54          16.67           152.20   \n",
       "\n",
       "   area_worst  smoothness_worst  compactness_worst  concavity_worst  \\\n",
       "0      2019.0            0.1622             0.6656           0.7119   \n",
       "1      1956.0            0.1238             0.1866           0.2416   \n",
       "2      1709.0            0.1444             0.4245           0.4504   \n",
       "3       567.7            0.2098             0.8663           0.6869   \n",
       "4      1575.0            0.1374             0.2050           0.4000   \n",
       "\n",
       "   concave points_worst  symmetry_worst  fractal_dimension_worst  \n",
       "0                0.2654          0.4601                  0.11890  \n",
       "1                0.1860          0.2750                  0.08902  \n",
       "2                0.2430          0.3613                  0.08758  \n",
       "3                0.2575          0.6638                  0.17300  \n",
       "4                0.1625          0.2364                  0.07678  \n",
       "\n",
       "[5 rows x 31 columns]"
      ]
     },
     "execution_count": 596,
     "metadata": {},
     "output_type": "execute_result"
    }
   ],
   "source": [
    "# Some columns may not be useful for the model (For example, the first column contains ID number which may be irrelavant). \n",
    "# You need to get rid of the ID number feature.\n",
    "# Also you should transform target labels in the second column from 'B' and 'M' to 1 and -1.\n",
    "# Some columns may not be useful for the model (For example, the first column contains ID number which may be irrelavant). \n",
    "# You need to get rid of the ID number feature.\n",
    "# Also you should transform target labels in the second column from 'B' and 'M' to 1 and -1.\n",
    "df = pd.DataFrame(data)\n",
    "df = df.drop('id', axis=1) # remove first column\n",
    "df = df.drop('Unnamed: 32', axis=1) # remove first column\n",
    "df = df.replace(\"B\", 1) # transform B to 1\n",
    "df = df.replace(\"M\", -1) # transform M to -1\n",
    "df.head()"
   ]
  },
  {
   "cell_type": "markdown",
   "metadata": {},
   "source": [
    "## 1.3. Partition to training and testing sets"
   ]
  },
  {
   "cell_type": "code",
   "execution_count": 597,
   "metadata": {},
   "outputs": [
    {
     "name": "stdout",
     "output_type": "stream",
     "text": [
      "shape of x_train: (455, 30)\n",
      "shape of x_test: (114, 30)\n",
      "shape of y_train: (455,)\n",
      "shape of y_test: (114,)\n"
     ]
    }
   ],
   "source": [
    "# You can partition using 80% training data and 20% testing data. It is a commonly used ratio in machinel learning.\n",
    "x = df.drop('diagnosis', axis=1) # features\n",
    "y = df['diagnosis'] # target\n",
    "\n",
    "# Convert back to numpy instead of dataframe\n",
    "x = x.to_numpy()\n",
    "y = y.to_numpy()\n",
    "\n",
    "x_train, x_test, y_train, y_test = train_test_split(x, y, test_size=0.2, random_state=0)\n",
    "\n",
    "print('shape of x_train: ' + str(x_train.shape))\n",
    "print('shape of x_test: ' + str(x_test.shape))\n",
    "print('shape of y_train: ' + str(y_train.shape))\n",
    "print('shape of y_test: ' + str(y_test.shape))"
   ]
  },
  {
   "cell_type": "markdown",
   "metadata": {},
   "source": [
    "## 1.4. Feature scaling"
   ]
  },
  {
   "cell_type": "markdown",
   "metadata": {},
   "source": [
    "Use the standardization to trainsform both training and test features"
   ]
  },
  {
   "cell_type": "code",
   "execution_count": 598,
   "metadata": {},
   "outputs": [
    {
     "name": "stdout",
     "output_type": "stream",
     "text": [
      "test mean = \n",
      "[ 0.02090745  0.16431943  0.03098111  0.01492717 -0.01921133  0.10117201\n",
      "  0.08443932  0.02966041  0.04062134  0.09494587  0.04653776  0.06428674\n",
      "  0.10007498  0.00538732  0.06601984  0.11839521  0.0676146   0.1268942\n",
      "  0.01037956  0.16193656  0.01337734  0.1134187   0.03390329 -0.00517026\n",
      " -0.02001553  0.07842781  0.11756424  0.01212816 -0.02700714  0.12744666]\n",
      "test std = \n",
      "[0.98484027 1.15221324 0.99783436 0.91061412 1.0932457  1.2099472\n",
      " 1.1161288  1.0269985  1.00338544 1.16387855 0.86929628 1.0858163\n",
      " 0.95737985 0.73797557 1.25342805 1.10484161 0.84117872 1.20913453\n",
      " 1.04276269 1.05856313 0.94112163 1.03290181 0.96071251 0.84629366\n",
      " 1.04566915 1.12995399 1.20449902 1.03206998 0.90827971 1.06240744]\n"
     ]
    }
   ],
   "source": [
    "# Standardization\n",
    "import numpy\n",
    "\n",
    "# calculate mu and sig using the training set\n",
    "d = x_train.shape[1]\n",
    "mu = numpy.mean(x_train, axis=0).reshape(1, d)\n",
    "sig = numpy.std(x_train, axis=0).reshape(1, d)\n",
    "\n",
    "# transform the training features\n",
    "x_train = (x_train - mu) / (sig + 1E-6)\n",
    "\n",
    "# transform the test features\n",
    "x_test = (x_test - mu) / (sig + 1E-6)\n",
    "\n",
    "print('test mean = ')\n",
    "print(numpy.mean(x_test, axis=0))\n",
    "\n",
    "print('test std = ')\n",
    "print(numpy.std(x_test, axis=0))"
   ]
  },
  {
   "cell_type": "markdown",
   "metadata": {},
   "source": [
    "# 2.  Logistic Regression Model\n",
    "\n",
    "The objective function is $Q (w; X, y) = \\frac{1}{n} \\sum_{i=1}^n \\log \\Big( 1 + \\exp \\big( - y_i x_i^T w \\big) \\Big) + \\frac{\\lambda}{2} \\| w \\|_2^2 $.\n",
    "\n",
    "When $\\lambda = 0$, the model is a regular logistric regression and when $\\lambda > 0$, it essentially becomes a regularized logistric regression."
   ]
  },
  {
   "cell_type": "code",
   "execution_count": 599,
   "metadata": {},
   "outputs": [],
   "source": [
    "# Calculate the objective function value, or loss\n",
    "# Inputs:\n",
    "#     w: weight: d-by-1 vector\n",
    "#     x: data: n-by-d matrix\n",
    "#     y: label: n-by-1 vector\n",
    "#     lam: regularization parameter: scalar\n",
    "# Return:\n",
    "#     objective function value, or loss (scalar)\n",
    "def objective(w, x, y, lam):\n",
    "    n = len(y)\n",
    "    obj = 0\n",
    "    for i in range(n):\n",
    "        xw = numpy.dot(x[i].T, w)\n",
    "        yxw = -numpy.dot(y[i], xw)\n",
    "        exp = numpy.exp(yxw)\n",
    "        obj += numpy.log(1 + exp)\n",
    "    obj = (1/n) * obj + ((lam/2) * numpy.linalg.norm(w)**2)\n",
    "    return obj\n"
   ]
  },
  {
   "cell_type": "markdown",
   "metadata": {},
   "source": [
    "# 3. Numerical optimization"
   ]
  },
  {
   "cell_type": "markdown",
   "metadata": {},
   "source": [
    "## 3.1. Gradient descent\n"
   ]
  },
  {
   "cell_type": "markdown",
   "metadata": {},
   "source": [
    "The gradient at $w$ for regularized logistic regression is  $g = - \\frac{1}{n} \\sum_{i=1}^n \\frac{y_i x_i }{1 + \\exp ( y_i x_i^T w)} + \\lambda w$"
   ]
  },
  {
   "cell_type": "code",
   "execution_count": 600,
   "metadata": {},
   "outputs": [],
   "source": [
    "# Calculate the gradient\n",
    "# Inputs:\n",
    "#     w: weight: d-by-1 matrix\n",
    "#     x: data: n-by-d matrix\n",
    "#     y: label: n-by-1 matrix\n",
    "#     lam: regularization parameter: scalar\n",
    "# Return:\n",
    "#     g: gradient: d-by-1 matrix\n",
    "\n",
    "def gradient(w, x, y, lam):\n",
    "    n = len(y)\n",
    "    g = 0\n",
    "    for i in range(n):\n",
    "        yx = numpy.dot(y[i], x[i])\n",
    "        xw = numpy.dot(x[i].T, w)\n",
    "        yxw = numpy.dot(y[i], xw)\n",
    "        g += (yx / (1 + numpy.exp(yxw)))\n",
    "    g = ((-1/n) * g) + (lam*w)\n",
    "    return g"
   ]
  },
  {
   "cell_type": "code",
   "execution_count": 601,
   "metadata": {},
   "outputs": [],
   "source": [
    "# Gradient descent for solving logistic regression\n",
    "# You will need to do iterative process (loops) to obtain optimal weights in this function\n",
    "\n",
    "# Inputs:\n",
    "#     x: data: n-by-d matrix\n",
    "#     y: label: n-by-1 matrix\n",
    "#     lam: scalar, the regularization parameter\n",
    "#     learning_rate: scalar\n",
    "#     w: weights: d-by-1 vector, initialization of w\n",
    "#     max_epoch: integer, the maximal epochs\n",
    "# Return:\n",
    "#     w: weights: d-by-1 vector, the solution\n",
    "#     objvals: a record of each epoch's objective value\n",
    "\n",
    "def gradient_descent(x, y, lam, learning_rate, w, max_epoch=100):\n",
    "    objvals = []\n",
    "    for _ in range(max_epoch):\n",
    "        g = gradient(w, x, y, lam)\n",
    "        w = w - learning_rate * g\n",
    "        objval = objective(w, x, y, lam)\n",
    "        objvals.append(objval)\n",
    "    return w, objvals\n"
   ]
  },
  {
   "cell_type": "markdown",
   "metadata": {},
   "source": [
    "Use gradient_descent function to obtain your optimal weights and a list of objective values over each epoch."
   ]
  },
  {
   "cell_type": "code",
   "execution_count": 602,
   "metadata": {},
   "outputs": [
    {
     "name": "stdout",
     "output_type": "stream",
     "text": [
      "Optimal Weights: [-0.15637705 -0.09929923 -0.15741962 -0.1493543  -0.0688684  -0.10881981\n",
      " -0.1310358  -0.15967353 -0.06136054  0.03186025 -0.11775999  0.00535405\n",
      " -0.11183312 -0.10977972  0.02869426 -0.02319539 -0.00570506 -0.05281004\n",
      "  0.01198698  0.02504807 -0.16956317 -0.11322752 -0.16850389 -0.15676639\n",
      " -0.09369678 -0.1167062  -0.12768386 -0.16643329 -0.09536112 -0.05505308]\n",
      "Objective Values: [0.6740504904431883, 0.6561424016036046, 0.6393412655606189, 0.6235674208444364, 0.608744430653614, 0.5947999468255626, 0.5816662323481144, 0.5692804010799712, 0.5575844416682697, 0.5465250888144059, 0.5360535950165916, 0.5261254440783661, 0.516700036553349, 0.5077403680206174, 0.4992127139036991, 0.49108632927233015, 0.4833331683495899, 0.47592762592037374, 0.46884630118029846, 0.4620677835224486, 0.4555724591416143, 0.44934233700306375, 0.44336089257755606, 0.43761292771837174, 0.43208444510336436, 0.42676253575458895, 0.42163527825941866, 0.41669164843712814, 0.4119214383153946, 0.40731518339716843, 0.4028640973069207, 0.39856001300522614, 0.3943953298513247, 0.39036296587494945, 0.3864563146916583, 0.38266920656079817, 0.37899587314275945, 0.37543091556304825, 0.37196927543557934, 0.36860620853718995, 0.3653372608602632, 0.36215824680105213, 0.359065229268393, 0.3560545015213194, 0.3531225705651451, 0.35026614195411304, 0.3474821058650931, 0.3447675243212891, 0.34211961945768415, 0.3395357627313206, 0.3370134649895146, 0.3345503673180278, 0.33214423259913, 0.32979293771650214, 0.3274944663502067, 0.3252469023105178, 0.32304842336438316, 0.3208972955127367, 0.3187918676808515, 0.3167305667874842, 0.31471189316175013, 0.3127344162795292, 0.31079677079377604, 0.30889765283541737, 0.30703581656360257, 0.305210070945946, 0.30341927675110175, 0.3016623437375228, 0.29993822802366693, 0.29824592962612506, 0.2965844901533202, 0.2949529906434228, 0.29335054953608075, 0.29177632076840226, 0.2902294919863986, 0.28870928286380493, 0.28721494352082827, 0.2857457530359625, 0.2843010180445369, 0.28288007141815796, 0.2814822710196405, 0.28010699852844523, 0.27875365833199783, 0.2774216764786185, 0.276110499688098, 0.2748195944162493, 0.27354844597002614, 0.27229655767004174, 0.27106345005755095, 0.2698486601431609, 0.2686517406947256, 0.26747225956205906, 0.26630979903625923, 0.2651639552415905, 0.2640343375580032, 0.26292056807250447, 0.2618222810577053, 0.2607391224759892, 0.25967074950783686, 0.2586168301029439]\n"
     ]
    }
   ],
   "source": [
    "# Train logistic regression\n",
    "# You should get the optimal weights and a list of objective values by using gradient_descent function.\n",
    "w = numpy.zeros((d,))\n",
    "lam = 0\n",
    "learning_rate = 0.01\n",
    "\n",
    "# Train\n",
    "opt_w_unreg_gd, opt_objs_unreg_gd = gradient_descent(x_train, y_train, lam, learning_rate, w)\n",
    "\n",
    "print(\"Optimal Weights:\", opt_w_unreg_gd)\n",
    "print(\"Objective Values:\", opt_objs_unreg_gd)"
   ]
  },
  {
   "cell_type": "code",
   "execution_count": 603,
   "metadata": {},
   "outputs": [
    {
     "name": "stdout",
     "output_type": "stream",
     "text": [
      "Optimal Weights: [-0.14962704 -0.09496211 -0.15063674 -0.14286587 -0.06602146 -0.10437897\n",
      " -0.12559701 -0.1528916  -0.05886316  0.03024108 -0.11259829  0.00510977\n",
      " -0.10693857 -0.10492719  0.02741929 -0.02254703 -0.00587296 -0.05088621\n",
      "  0.01136781  0.02357569 -0.16221906 -0.10828703 -0.16121874 -0.14992934\n",
      " -0.08975433 -0.11190442 -0.12244664 -0.15942908 -0.09136059 -0.05292063]\n",
      "Objective Values: [0.6740601924863768, 0.6561981503393536, 0.6394748067965083, 0.6238064204573661, 0.6091129690459283, 0.5953189748854932, 0.58235398157862, 0.5701527458358341, 0.5586552150184925, 0.5478063556237345, 0.5375558867998449, 0.5278579604092334, 0.51867081761124, 0.5099564424468654, 0.5016802256445607, 0.4938106465867354, 0.4863189776934927, 0.4791790130038987, 0.47236682113308864, 0.4658605217947286, 0.45964008450852106, 0.45368714782171227, 0.4479848572640937, 0.4425177202602228, 0.4372714762952023, 0.4322329807408644, 0.42739010087806856, 0.4227316227853086, 0.41824716789631033, 0.41392711815513733, 0.4097625488141876, 0.4057451680271514, 0.40186726248542226, 0.39812164843280184, 0.39450162747024153, 0.39100094663059076, 0.3876137622635912, 0.3843346073246112, 0.3811583617074273, 0.37808022530265784, 0.37509569349974325, 0.3722005348822774, 0.3693907708946277, 0.366662657282483, 0.3640126671317683, 0.36143747534955295, 0.3589339444475238, 0.3564991115035287, 0.3541301761899206, 0.3518244897691281, 0.3495795449671962, 0.3473929666452727, 0.3452625031971024, 0.3431860186078795, 0.3411614851162242, 0.33918697642678824, 0.3372606614261193, 0.33538079835897927, 0.33354572942638544, 0.331753875770319, 0.33000373281328776, 0.3282938659239084, 0.32662290638226793, 0.32498954762123405, 0.3233925417219833, 0.32183069614397325, 0.32030287067129065, 0.3188079745588901, 0.3173449638636527, 0.3159128389464668, 0.3145106421327046, 0.31313745551950745, 0.3117923989192673, 0.3104746279295335, 0.30918333212039006, 0.30791773333104355, 0.30667708406803224, 0.30546066599805677, 0.304267788528979, 0.30309778747302796, 0.3019500237867175, 0.30082388238238805, 0.2997187710066626, 0.298634119181475, 0.2975693772036225, 0.296524015199109, 0.29549752222881276, 0.2944894054422518, 0.2934991892764552, 0.29252641469716417, 0.2915706384797711, 0.29063143252758944, 0.2897083832252114, 0.288801090824864, 0.28790916886381596, 0.2870322436110103, 0.2861699535412332, 0.2853219488352253, 0.28448789090425974, 0.2836674519377919]\n"
     ]
    }
   ],
   "source": [
    "# Train regularized logistric regression\n",
    "# You should get the optimal weights and a list of objective values by using gradient_descent function.\n",
    "w = numpy.zeros((d,))\n",
    "lam = 0.1\n",
    "learning_rate = 0.01\n",
    "\n",
    "# Train\n",
    "opt_w_reg_gd, opt_objs_reg_gd = gradient_descent(x_train, y_train, lam, learning_rate, w)\n",
    "\n",
    "print(\"Optimal Weights:\", opt_w_reg_gd)\n",
    "print(\"Objective Values:\", opt_objs_reg_gd)"
   ]
  },
  {
   "cell_type": "markdown",
   "metadata": {},
   "source": [
    "## 3.2. Stochastic gradient descent (SGD)\n",
    "\n",
    "Define new objective function $Q_i (w) = \\log \\Big( 1 + \\exp \\big( - y_i x_i^T w \\big) \\Big) + \\frac{\\lambda}{2} \\| w \\|_2^2 $. \n",
    "\n",
    "The stochastic gradient at $w$ is $g_i = \\frac{\\partial Q_i }{ \\partial w} = -\\frac{y_i x_i }{1 + \\exp ( y_i x_i^T w)} + \\lambda w$.\n",
    "\n",
    "You may need to implement a new function to calculate the new objective function and gradients."
   ]
  },
  {
   "cell_type": "code",
   "execution_count": 604,
   "metadata": {},
   "outputs": [],
   "source": [
    "# Calculate the objective Q_i and the gradient of Q_i\n",
    "# Inputs:\n",
    "#     w: weights: d-by-1 matrix\n",
    "#     xi: data: 1-by-d matrix\n",
    "#     yi: label: scalar\n",
    "#     lam: scalar, the regularization parameter\n",
    "# Return:\n",
    "#     obj: scalar, the objective Q_i\n",
    "#     g: d-by-1 matrix, gradient of Q_i\n",
    "def sgd_objective(w, xi, yi, lam):\n",
    "    xw = numpy.dot(xi.T, w)\n",
    "    yxw = yi * xw\n",
    "    obj = numpy.log(1 + numpy.exp(-yxw))\n",
    "    obj = obj + ((lam/2) * numpy.linalg.norm(w)**2)\n",
    "    return obj\n",
    "\n",
    "def stochastic_objective_gradient(w, xi, yi, lam):\n",
    "    yx = yi * xi\n",
    "    xw = numpy.dot(xi.T, w)\n",
    "    yxw = yi * xw\n",
    "    g = -(yx / (1 + numpy.exp(yxw)))\n",
    "    g = g + (lam * w)\n",
    "    obj = sgd_objective(w, xi, yi, lam)\n",
    "    return obj, g  "
   ]
  },
  {
   "cell_type": "markdown",
   "metadata": {},
   "source": [
    "Hints:\n",
    "1. In every epoch, randomly permute the $n$ samples.\n",
    "2. Each epoch has $n$ iterations. In every iteration, use 1 sample, and compute the gradient and objective using the ``stochastic_objective_gradient`` function. In the next iteration, use the next sample, and so on."
   ]
  },
  {
   "cell_type": "code",
   "execution_count": 605,
   "metadata": {},
   "outputs": [],
   "source": [
    "# SGD for solving logistic regression\n",
    "# You will need to do iterative process (loops) to obtain optimal weights in this function\n",
    "\n",
    "# Inputs:\n",
    "#     x: data: n-by-d matrix\n",
    "#     y: label: n-by-1 matrix\n",
    "#     lam: scalar, the regularization parameter\n",
    "#     learning_rate: scalar\n",
    "#     w: weights: d-by-1 matrix, initialization of w\n",
    "#     max_epoch: integer, the maximal epochs\n",
    "# Return:\n",
    "#     \n",
    "#     w: weights: d-by-1 matrix, the solution\n",
    "#     objvals: a record of each epoch's objective value\n",
    "#     Record one objective value per epoch (not per iteration)\n",
    "\n",
    "def sgd(x, y, lam, learning_rate, w, max_epoch=100):\n",
    "    n = len(y)\n",
    "    objvals = []\n",
    "    for _ in range(max_epoch):\n",
    "        permute = numpy.random.permutation(n)\n",
    "        objval = 0\n",
    "        for i in range(n):\n",
    "            xi = x[permute[i]]\n",
    "            yi = y[permute[i]]\n",
    "            obj, g = stochastic_objective_gradient(w, xi, yi, lam)\n",
    "            objval += obj\n",
    "            w = w - learning_rate * g\n",
    "        objval = objval / n\n",
    "        objvals.append(objval)\n",
    "    return w, objvals\n",
    "    "
   ]
  },
  {
   "cell_type": "markdown",
   "metadata": {},
   "source": [
    "Use sgd function to obtain your optimal weights and a list of objective values over each epoch."
   ]
  },
  {
   "cell_type": "code",
   "execution_count": 606,
   "metadata": {},
   "outputs": [
    {
     "name": "stdout",
     "output_type": "stream",
     "text": [
      "Optimal Weights: [-0.28812595 -0.6044137  -0.27784466 -0.51347017 -0.18264478  0.66284051\n",
      " -0.90622511 -1.07686702 -0.41169474  0.17308794 -1.92215371  0.04689649\n",
      " -1.30776089 -1.44464999  0.3540549   1.01879042  0.10169709 -0.20754765\n",
      "  0.1752277   1.14608077 -1.14462277 -1.30580547 -0.95327023 -1.27054176\n",
      " -0.70044508 -0.00804492 -1.15766524 -1.31834303 -0.69554528 -0.78709973]\n",
      "Objective Values: [0.22412245635887115, 0.12341048338265947, 0.10400519293966204, 0.09413024055335002, 0.08766466915713696, 0.08320046754659263, 0.07968425841629995, 0.0771080467240298, 0.07483507199758269, 0.0730406269912228, 0.07147134481744907, 0.07008884348369843, 0.06882487562337766, 0.06774595817038691, 0.06680566462401133, 0.06592499147383496, 0.06514771082691373, 0.0644426589391065, 0.0637897772701976, 0.06316102322135843, 0.06258040585678114, 0.062066602396382, 0.06154442253719334, 0.061077054097858054, 0.06059330744303059, 0.06020194550410171, 0.05978985591157245, 0.05944019428121288, 0.05907367235655631, 0.05871341056773547, 0.0584269792098816, 0.05811656738659733, 0.05782436894317314, 0.05753252916607854, 0.05724567259520825, 0.057001552705038025, 0.05673558241867322, 0.05651566350439249, 0.05626490663754992, 0.05606609483903146, 0.05585206134748207, 0.055630912958651794, 0.05545070093341078, 0.05521037612339124, 0.055069695481519715, 0.054896764928730565, 0.05471842395381946, 0.05452026805169024, 0.05440326057643246, 0.05423065530879274, 0.054080540429351384, 0.05392105214401985, 0.05378796370941103, 0.053664036457180334, 0.05347602938731395, 0.05335959319897409, 0.05329912013131376, 0.053148947830874274, 0.05303399812575192, 0.05289497415944321, 0.05277154462248619, 0.05270049002639916, 0.05256955868995529, 0.05248444163145284, 0.0523422978044931, 0.05228938810333484, 0.05218609515288531, 0.052101273581508456, 0.052006259092014305, 0.05187235491966463, 0.051825172624647114, 0.051742235300404164, 0.05166059385721648, 0.05158414540580662, 0.05144580208028159, 0.05141079999514028, 0.051327845425532294, 0.05126560086587686, 0.05117542986946092, 0.051128175469652815, 0.051025202133368086, 0.05091784006466647, 0.05092910656685484, 0.05084561608679873, 0.050788208211762366, 0.050685637255320125, 0.0506681862803972, 0.05060309228115086, 0.05052744688740418, 0.05044427202092957, 0.050425250098262465, 0.050331202724555976, 0.050283547986680645, 0.05024084291923826, 0.05016653217945351, 0.05014315770152411, 0.05002806182626018, 0.05002019797254218, 0.049982122581990515, 0.049930311781414605]\n"
     ]
    }
   ],
   "source": [
    "# Train logistic regression\n",
    "# You should get the optimal weights and a list of objective values by using gradient_descent function.\n",
    "w = numpy.zeros((d,))\n",
    "lam = 0\n",
    "learning_rate = 0.01\n",
    "\n",
    "# Train\n",
    "opt_w_unreg_sgd, opt_objs_unreg_sgd = sgd(x_train, y_train, lam, learning_rate, w)\n",
    "\n",
    "print(\"Optimal Weights:\", opt_w_unreg_sgd)\n",
    "print(\"Objective Values:\", opt_objs_unreg_sgd)"
   ]
  },
  {
   "cell_type": "code",
   "execution_count": 607,
   "metadata": {},
   "outputs": [
    {
     "name": "stdout",
     "output_type": "stream",
     "text": [
      "Optimal Weights: [-0.26785611 -0.22897975 -0.2662353  -0.27597429 -0.11924915 -0.10914276\n",
      " -0.22373273 -0.29805816 -0.11214321  0.09765374 -0.30494605 -0.01211996\n",
      " -0.26741192 -0.26591183  0.02252724  0.06582533  0.08147804 -0.01877342\n",
      "  0.03197786  0.13660795 -0.33411782 -0.27542715 -0.3231786  -0.32584221\n",
      " -0.2162776  -0.17373174 -0.21587031 -0.30438248 -0.20489181 -0.10603176]\n",
      "Objective Values: [0.2744299170912208, 0.2168097911970807, 0.21447568005082224, 0.2140820115741888, 0.21325176954536493, 0.21422619435056783, 0.2137851695311549, 0.21393108924931195, 0.21396098955143347, 0.21404046139991986, 0.21370338149664767, 0.2138797676479691, 0.21386585511191455, 0.21381711839190248, 0.21394018872657092, 0.21388699049466717, 0.2139125690319427, 0.21408001744815042, 0.21422857777033927, 0.2139224952686466, 0.2141800401265723, 0.21399312440422788, 0.2141132575269214, 0.21417148843484907, 0.2137338140619877, 0.213904979552172, 0.2137963746461197, 0.21386281742141275, 0.2139839733479853, 0.2138875571517605, 0.21418294894843276, 0.21323009458417255, 0.21432092233118338, 0.21411263003066294, 0.2138160774042519, 0.21394449609990354, 0.2140818418412858, 0.21362113752863787, 0.2138473712662846, 0.2140701553562646, 0.21423408816660036, 0.2141589254256389, 0.2140553501202055, 0.21402306337198745, 0.21399037285199768, 0.2137765161017304, 0.21416222382142378, 0.2136658147556691, 0.2141603309082216, 0.2141300505421454, 0.21394921838305284, 0.21352657253404045, 0.21387463315474017, 0.2141978362990267, 0.21406872825141954, 0.21404300505696708, 0.21376326199531634, 0.21346016483665006, 0.21404402120709667, 0.21400680835004016, 0.21402245967285075, 0.21376296843477788, 0.21353088914864607, 0.21416086186046904, 0.21404838588787975, 0.2135135300265783, 0.21412736321409356, 0.21377621334839275, 0.21388866031588302, 0.2143177108565766, 0.21408675846603883, 0.2137908403640866, 0.21396532986783298, 0.21414480041344675, 0.21336821626681318, 0.21448515392219028, 0.21400640824026604, 0.21394738447124334, 0.21392090187686785, 0.21387409449099934, 0.21411719980849403, 0.21400950139452699, 0.21403534305608343, 0.2141331005368386, 0.2140518028234283, 0.21376837677307847, 0.21386348711266726, 0.21399817936838253, 0.2139556068570689, 0.21356427538623013, 0.21429767844214437, 0.21398313096873103, 0.21386669487902882, 0.21410361526230862, 0.21409339409625489, 0.21398883530315996, 0.21428047691425522, 0.21410909957365018, 0.2139042741279312, 0.21421242953770867]\n"
     ]
    }
   ],
   "source": [
    "# Train regularized logistic regression\n",
    "# You should get the optimal weights and a list of objective values by using gradient_descent function.\n",
    "w = numpy.zeros((d,))\n",
    "lam = 0.1\n",
    "learning_rate = 0.01\n",
    "\n",
    "# Train\n",
    "opt_w_reg_sgd, opt_objs_reg_sgd = sgd(x_train, y_train, lam, learning_rate, w)\n",
    "\n",
    "print(\"Optimal Weights:\", opt_w_reg_sgd)\n",
    "print(\"Objective Values:\", opt_objs_reg_sgd)"
   ]
  },
  {
   "cell_type": "markdown",
   "metadata": {},
   "source": [
    "## 3.3 Mini-Batch Gradient Descent (MBGD)"
   ]
  },
  {
   "cell_type": "markdown",
   "metadata": {},
   "source": [
    "Define $Q_I (w) = \\frac{1}{b} \\sum_{i \\in I} \\log \\Big( 1 + \\exp \\big( - y_i x_i^T w \\big) \\Big) + \\frac{\\lambda}{2} \\| w \\|_2^2 $, where $I$ is a set containing $b$ indices randomly drawn from $\\{ 1, \\cdots , n \\}$ without replacement.\n",
    "\n",
    "The stochastic gradient at $w$ is $g_I = \\frac{\\partial Q_I }{ \\partial w} = \\frac{1}{b} \\sum_{i \\in I} \\frac{- y_i x_i }{1 + \\exp ( y_i x_i^T w)} + \\lambda w$.\n",
    "\n",
    "You may need to implement a new function to calculate the new objective function and gradients."
   ]
  },
  {
   "cell_type": "code",
   "execution_count": 608,
   "metadata": {},
   "outputs": [],
   "source": [
    "# Calculate the objective Q_I and the gradient of Q_I\n",
    "# Inputs:\n",
    "#     w: weights: d-by-1 matrix\n",
    "#     xi: data: b-by-d matrix\n",
    "#     yi: label: b-by-1 matrix\n",
    "#     lam: scalar, the regularization parameter\n",
    "# Return:\n",
    "#     obj: scalar, the objective Q_i\n",
    "#     g: d-by-1 matrix, gradient of Q_i\n",
    "def mb_objective(w, xi, yi):\n",
    "    xw = numpy.dot(xi.T, w)\n",
    "    yxw = numpy.dot(yi, xw)\n",
    "    obj = numpy.log(1 + numpy.exp(-yxw))\n",
    "    return obj\n",
    "\n",
    "def mb_objective_gradient(w, xi, yi, lam):\n",
    "    b = len(yi)\n",
    "    obj = 0\n",
    "    g = numpy.zeros(d,)\n",
    "    for i in range(b):\n",
    "        yx = -yi[i] * xi[i]\n",
    "        xw = numpy.dot(xi[i].T, w)\n",
    "        g += (yx / (1 + numpy.exp(yi[i] * xw)))\n",
    "        obj += mb_objective(w, xi[i], yi[i])\n",
    "    obj = 1/b * obj + ((lam/2) * numpy.linalg.norm(w)**2)\n",
    "    g = 1/b * g + (lam * w)\n",
    "    return obj, g"
   ]
  },
  {
   "cell_type": "markdown",
   "metadata": {},
   "source": [
    "Hints:\n",
    "1. In every epoch, randomly permute the $n$ samples (just like SGD).\n",
    "2. Each epoch has $\\frac{n}{b}$ iterations. In every iteration, use $b$ samples, and compute the gradient and objective using the ``mb_objective_gradient`` function. In the next iteration, use the next $b$ samples, and so on."
   ]
  },
  {
   "cell_type": "code",
   "execution_count": 609,
   "metadata": {},
   "outputs": [],
   "source": [
    "# MBGD for solving logistic regression\n",
    "# You will need to do iterative process (loops) to obtain optimal weights in this function\n",
    "\n",
    "# Inputs:\n",
    "#     x: data: n-by-d matrix\n",
    "#     y: label: n-by-1 matrix\n",
    "#     lam: scalar, the regularization parameter\n",
    "#     learning_rate: scalar\n",
    "#     w: weights: d-by-1 matrix, initialization of w\n",
    "#     max_epoch: integer, the maximal epochs\n",
    "# Return:\n",
    "#     w: weights: d-by-1 matrix, the solution\n",
    "#     objvals: a record of each epoch's objective value\n",
    "#     Record one objective value per epoch (not per iteration)\n",
    "def mbgd(x, y, lam, learning_rate, w, max_epoch=100):    \n",
    "    n = len(y)\n",
    "    objvals = []\n",
    "    b = int(n / max_epoch)\n",
    "    iteration = int(n/b)\n",
    "    for _ in range(max_epoch):\n",
    "        permute = numpy.random.permutation(n)\n",
    "        obj = 0\n",
    "        for i in range(iteration):\n",
    "            start = i*b\n",
    "            end = i*b+b\n",
    "            permute = x[start:end]\n",
    "            xi = permute\n",
    "            permute = y[start:end]\n",
    "            yi = permute\n",
    "            temp, g = mb_objective_gradient(w, xi, yi, lam)\n",
    "            obj += temp\n",
    "            w = w - learning_rate * g\n",
    "        obj = obj / b\n",
    "        objvals.append(obj)\n",
    "    return w, objvals"
   ]
  },
  {
   "cell_type": "markdown",
   "metadata": {},
   "source": [
    "Use mbgd function to obtain your optimal weights and a list of objective values over each epoch."
   ]
  },
  {
   "cell_type": "code",
   "execution_count": 610,
   "metadata": {},
   "outputs": [
    {
     "name": "stdout",
     "output_type": "stream",
     "text": [
      "Optimal Weights: [-0.47025075 -0.56840209 -0.46140721 -0.59135384 -0.2410556   0.13767393\n",
      " -0.63537462 -0.75223474 -0.30803071  0.24250906 -1.16237635 -0.06748564\n",
      " -0.93431026 -0.93540578  0.13238965  0.56899831  0.15839236  0.03194702\n",
      "  0.13945766  0.59456048 -0.88412591 -0.8815956  -0.81290729 -0.94550399\n",
      " -0.62943253 -0.17569227 -0.69071768 -0.83610339 -0.57270847 -0.35099755]\n",
      "Objective Values: [10.356339223717699, 6.019611287545098, 4.8511022539286826, 4.241207924422262, 3.855196431171955, 3.583832143587129, 3.3799912231161477, 3.2197574149136723, 3.0895784538672175, 2.9811383781159146, 2.88901790444343, 2.8095153708089464, 2.7400050686051416, 2.6785659615510613, 2.623755827628672, 2.574468016114397, 2.529837339148735, 2.489176346368497, 2.4519310282037297, 2.41764931100796, 2.3859581930733738, 2.35654685155364, 2.329153959618565, 2.3035580266577043, 2.2795699448586864, 2.2570271701052365, 2.2357891298506285, 2.2157335635304096, 2.1967535797530644, 2.1787552701566706, 2.1616557597301687, 2.1453816023878884, 2.1298674518937264, 2.1150549540651347, 2.10089181807358, 2.087331033666659, 2.0743302080253656, 2.061851001280939, 2.0498586438428084, 2.0383215219196624, 2.0272108201620505, 2.0165002123751585, 2.0061655928630815, 1.9961848422607715, 1.9865376227553808, 1.9772051984472143, 1.968170277292728, 1.9594168716392282, 1.950930174828062, 1.9426964517291923, 1.9347029413907357, 1.92693777025433, 1.9193898746107816, 1.912048931158341, 1.9049052946840979, 1.8979499420228885, 1.8911744215615816, 1.8845708076531444, 1.878131659387332, 1.8718499832353988, 1.865719199146687, 1.859733109727082, 1.8538858721742464, 1.8481719726833832, 1.8425862030709754, 1.8371236393932424, 1.831779622361474, 1.8265497393787602, 1.8214298080419806, 1.8164158609700631, 1.8115041318344343, 1.8066910424807943, 1.8019731910429704, 1.7973473409598286, 1.7928104108153202, 1.7883594649297978, 1.7839917046378182, 1.7797044601940792, 1.7754951832546995, 1.771361439886165, 1.7673009040587253, 1.7633113515850642, 1.7593906544686853, 1.755536775629667, 1.7517477639783787, 1.7480217498103359, 1.7443569404977468, 1.740751616455418, 1.7372041273606058, 1.733712888608134, 1.7302763779836654, 1.7268931325394232, 1.7235617456579984, 1.7202808642909495, 1.717049186360092, 1.7138654583102255, 1.7107284728030148, 1.7076370665424825, 1.7045901182233538, 1.701586546594134]\n"
     ]
    }
   ],
   "source": [
    "# Train logistic regression\n",
    "# You should get the optimal weights and a list of objective values by using gradient_descent function.\n",
    "w = numpy.zeros((d,))\n",
    "lam = 0\n",
    "learning_rate = 0.01\n",
    "\n",
    "# Train\n",
    "opt_w_unreg_mbgd, opt_objs_unreg_mbgd = mbgd(x_train, y_train, lam, learning_rate, w)\n",
    "\n",
    "print(\"Optimal Weights:\", opt_w_unreg_mbgd)\n",
    "print(\"Objective Values:\", opt_objs_unreg_mbgd)"
   ]
  },
  {
   "cell_type": "code",
   "execution_count": 611,
   "metadata": {},
   "outputs": [
    {
     "name": "stdout",
     "output_type": "stream",
     "text": [
      "Optimal Weights: [-0.26634575 -0.22383251 -0.26509443 -0.2753438  -0.11202515 -0.11065411\n",
      " -0.23312296 -0.29794945 -0.10790127  0.09044756 -0.29739929 -0.0204923\n",
      " -0.26052803 -0.26143749  0.02190844  0.06732632  0.06824518 -0.01563571\n",
      "  0.02247791  0.13471188 -0.33285437 -0.27749328 -0.3216724  -0.32532878\n",
      " -0.21129535 -0.1695872  -0.22366062 -0.30321716 -0.20698743 -0.10850268]\n",
      "Objective Values: [10.741969118115593, 7.126651442148137, 6.465014106673555, 6.2262866558487895, 6.122611875852817, 6.072657633998987, 6.046788376366066, 6.032611357534774, 6.024458424235577, 6.019564871418931, 6.016512653963855, 6.014542853350942, 6.013233413831552, 6.012340959150433, 6.011720163747029, 6.011281288309855, 6.010967132687826, 6.010740159067658, 6.010575086111395, 6.010454502966131, 6.010366193865858, 6.010301457741276, 6.010254022643328, 6.010219325798212, 6.010194024751381, 6.010175658546734, 6.010162408796313, 6.010152928780779, 6.010146219809088, 6.010141540962729, 6.0101383427517225, 6.010136218089672, 6.0101348659241385, 6.010134064178451, 6.010133649581038, 6.010133502609802, 6.010133536246539, 6.010133687575545, 6.010133911508585, 6.010134176101127, 6.010134459060039, 6.010134745143451, 6.010135024228715, 6.010135289880212, 6.010135538290967, 6.010135767503435, 6.01013597683846, 6.010136166479224, 6.010136337170252, 6.010136490001657, 6.010136626256269, 6.010136747302962, 6.0101368545237595, 6.0101369492655, 6.010137032809133, 6.01013710635162, 6.010137170996724, 6.010137227751887, 6.0101372775292425, 6.010137321149336, 6.010137359346424, 6.0101373927747614, 6.010137422015264, 6.010137447582175, 6.0101374699296315, 6.010137489457851, 6.0101375065189275, 6.010137521422169, 6.0101375344389405, 6.01013754580711, 6.010137555734989, 6.010137564404855, 6.010137571976124, 6.0101375785881475, 6.010137584362688, 6.010137589406103, 6.010137593811258, 6.01013759765923, 6.010137601020808, 6.010137603957749, 6.01013760652397, 6.010137608766511, 6.010137610726425, 6.010137612439541, 6.010137613937125, 6.010137615246454, 6.010137616391346, 6.010137617392577, 6.010137618268298, 6.010137619034336, 6.010137619704526, 6.0101376202909345, 6.010137620804106, 6.010137621253242, 6.010137621646392, 6.010137621990575, 6.010137622291938, 6.010137622555833, 6.010137622786951, 6.01013762298939]\n"
     ]
    }
   ],
   "source": [
    "# Train regularized logistric regression\n",
    "# You should get the optimal weights and a list of objective values by using gradient_descent function.\n",
    "w = numpy.zeros((d,))\n",
    "lam = 0.1\n",
    "learning_rate = 0.01\n",
    "\n",
    "# Train\n",
    "opt_w_reg_mbgd, opt_objs_reg_mbgd = mbgd(x_train, y_train, lam, learning_rate, w)\n",
    "\n",
    "print(\"Optimal Weights:\", opt_w_reg_mbgd)\n",
    "print(\"Objective Values:\", opt_objs_reg_mbgd)"
   ]
  },
  {
   "cell_type": "markdown",
   "metadata": {},
   "source": [
    "# 4. Compare GD, SGD, MBGD\n",
    "\n",
    "### Plot objective function values against epochs."
   ]
  },
  {
   "cell_type": "code",
   "execution_count": 612,
   "metadata": {},
   "outputs": [
    {
     "data": {
      "image/png": "[encoded data removed]",
      "text/plain": [
       "<Figure size 640x480 with 1 Axes>"
      ]
     },
     "metadata": {},
     "output_type": "display_data"
    },
    {
     "data": {
      "image/png": "[encoded data removed]",
      "text/plain": [
       "<Figure size 640x480 with 1 Axes>"
      ]
     },
     "metadata": {},
     "output_type": "display_data"
    },
    {
     "data": {
      "image/png": "[encoded data removed]",
      "text/plain": [
       "<Figure size 640x480 with 1 Axes>"
      ]
     },
     "metadata": {},
     "output_type": "display_data"
    },
    {
     "data": {
      "image/png": "[encoded data removed]",
      "text/plain": [
       "<Figure size 640x480 with 1 Axes>"
      ]
     },
     "metadata": {},
     "output_type": "display_data"
    }
   ],
   "source": [
    "import matplotlib.pyplot as plt\n",
    "%matplotlib inline\n",
    "\n",
    "w = numpy.zeros((d,))\n",
    "\n",
    "series_gd = pd.Series(opt_objs_unreg_gd).plot(label='UnRegularized')\n",
    "series_gd = pd.Series(opt_objs_reg_gd).plot(label='Regularized')\n",
    "\n",
    "plt.title('Comparison of GD')\n",
    "plt.ylabel('Objective Values')\n",
    "plt.xlabel('Epochs')\n",
    "plt.legend()\n",
    "plt.show()\n",
    "\n",
    "series_sgd = pd.Series(opt_objs_unreg_sgd).plot(label='UnRegularized')\n",
    "series_sgd = pd.Series(opt_objs_reg_sgd).plot(label='Regularized')\n",
    "\n",
    "plt.title('Comparison of SGD')\n",
    "plt.ylabel('Objective Values')\n",
    "plt.xlabel('Epochs')\n",
    "plt.legend()\n",
    "plt.show()\n",
    "\n",
    "series_mbgd = pd.Series(opt_objs_unreg_mbgd).plot(label='UnRegularized')\n",
    "series_mbgd = pd.Series(opt_objs_reg_mbgd).plot(label='Regularized')\n",
    "\n",
    "plt.title('Comparison of MBGD')\n",
    "plt.ylabel('Objective Values')\n",
    "plt.xlabel('Epochs')\n",
    "plt.legend()\n",
    "plt.show()\n",
    "\n",
    "series_gd = pd.Series(opt_objs_unreg_gd).plot(label='GD UnRegularized')\n",
    "series_gd = pd.Series(opt_objs_reg_gd).plot(label='GD Regularized')\n",
    "series_sgd = pd.Series(opt_objs_unreg_sgd).plot(label='SGD UnRegularized')\n",
    "series_sgd = pd.Series(opt_objs_reg_sgd).plot(label='SGD Regularized')\n",
    "series_mbgd = pd.Series(opt_objs_unreg_mbgd).plot(label='MBGD UnRegularized')\n",
    "series_mbgd = pd.Series(opt_objs_reg_mbgd).plot(label='MBGD Regularized')\n",
    "\n",
    "plt.title('Comparison of GD, SGD, MBGD')\n",
    "plt.ylabel('Objective Values')\n",
    "plt.xlabel('Epochs')\n",
    "plt.legend()\n",
    "plt.show()"
   ]
  },
  {
   "cell_type": "markdown",
   "metadata": {},
   "source": [
    "# 5. Prediction\n",
    "### Compare the training and testing accuracy for logistic regression and regularized logistic regression."
   ]
  },
  {
   "cell_type": "code",
   "execution_count": 613,
   "metadata": {},
   "outputs": [],
   "source": [
    "# Predict class label\n",
    "# Inputs:\n",
    "#     w: weights: d-by-1 matrix\n",
    "#     X: data: m-by-d matrix\n",
    "# Return:\n",
    "#     f: m-by-1 matrix, the predictions\n",
    "def predict(w, X):\n",
    "    return numpy.sign(numpy.dot(X, w))"
   ]
  },
  {
   "cell_type": "code",
   "execution_count": 614,
   "metadata": {},
   "outputs": [
    {
     "name": "stdout",
     "output_type": "stream",
     "text": [
      "Training Accuracy of GD UnRegularized: 95.6%\n",
      "Training Accuracy of GD Regularized: 95.6%\n",
      "Training Accuracy of SGD UnRegularized: 99.12%\n",
      "Training Accuracy of SGD Regularized: 98.02%\n",
      "Training Accuracy of MBGD UnRegularized: 98.9%\n",
      "Training Accuracy of MBGD Regularized: 97.36%\n"
     ]
    }
   ],
   "source": [
    "# evaluate training error of logistric regression and regularized version\n",
    "from sklearn.metrics import accuracy_score\n",
    "\n",
    "w = numpy.zeros((d,))\n",
    "\n",
    "prediction = predict(opt_w_unreg_gd, x_train)\n",
    "accuracy = accuracy_score(y_train, prediction)\n",
    "print(\"Training Accuracy of GD UnRegularized:\", str(round(accuracy*100, 2)) + \"%\")\n",
    "\n",
    "prediction = predict(opt_w_reg_gd, x_train)\n",
    "accuracy = accuracy_score(y_train, prediction)\n",
    "print(\"Training Accuracy of GD Regularized:\", str(round(accuracy*100, 2)) + \"%\")\n",
    "\n",
    "prediction = predict(opt_w_unreg_sgd, x_train)\n",
    "accuracy = accuracy_score(y_train, prediction)\n",
    "print(\"Training Accuracy of SGD UnRegularized:\", str(round(accuracy*100, 2)) + \"%\")\n",
    "\n",
    "prediction = predict(opt_w_reg_sgd, x_train)\n",
    "accuracy = accuracy_score(y_train, prediction)\n",
    "print(\"Training Accuracy of SGD Regularized:\", str(round(accuracy*100, 2)) + \"%\")\n",
    "\n",
    "prediction = predict(opt_w_unreg_mbgd, x_train)\n",
    "accuracy = accuracy_score(y_train, prediction)\n",
    "print(\"Training Accuracy of MBGD UnRegularized:\", str(round(accuracy*100, 2)) + \"%\")\n",
    "\n",
    "prediction = predict(opt_w_reg_mbgd, x_train)\n",
    "accuracy = accuracy_score(y_train, prediction)\n",
    "print(\"Training Accuracy of MBGD Regularized:\", str(round(accuracy*100, 2)) + \"%\")\n"
   ]
  },
  {
   "cell_type": "code",
   "execution_count": 615,
   "metadata": {},
   "outputs": [
    {
     "name": "stdout",
     "output_type": "stream",
     "text": [
      "Testing Accuracy of GD UnRegularized: 92.11%\n",
      "Testing Accuracy of GD Regularized: 92.11%\n",
      "Testing Accuracy of SGD UnRegularized: 96.49%\n",
      "Testing Accuracy of SGD Regularized: 94.74%\n",
      "Testing Accuracy of MBGD UnRegularized: 96.49%\n",
      "Testing Accuracy of MBGD Regularized: 94.74%\n"
     ]
    }
   ],
   "source": [
    "# evaluate testing error of logistric regression and regularized version\n",
    "w = numpy.zeros((d,))\n",
    "\n",
    "prediction = predict(opt_w_unreg_gd, x_test)\n",
    "accuracy = accuracy_score(y_test, prediction)\n",
    "print(\"Testing Accuracy of GD UnRegularized:\", str(round(accuracy*100, 2)) + \"%\")\n",
    "\n",
    "prediction = predict(opt_w_reg_gd, x_test)\n",
    "accuracy = accuracy_score(y_test, prediction)\n",
    "print(\"Testing Accuracy of GD Regularized:\", str(round(accuracy*100, 2)) + \"%\")\n",
    "\n",
    "prediction = predict(opt_w_unreg_sgd, x_test)\n",
    "accuracy = accuracy_score(y_test, prediction)\n",
    "print(\"Testing Accuracy of SGD UnRegularized:\", str(round(accuracy*100, 2)) + \"%\")\n",
    "\n",
    "prediction = predict(opt_w_reg_sgd, x_test)\n",
    "accuracy = accuracy_score(y_test, prediction)\n",
    "print(\"Testing Accuracy of SGD Regularized:\", str(round(accuracy*100, 2)) + \"%\")\n",
    "\n",
    "prediction = predict(opt_w_unreg_mbgd, x_test)\n",
    "accuracy = accuracy_score(y_test, prediction)\n",
    "print(\"Testing Accuracy of MBGD UnRegularized:\", str(round(accuracy*100, 2)) + \"%\")\n",
    "\n",
    "prediction = predict(opt_w_reg_mbgd, x_test)\n",
    "accuracy = accuracy_score(y_test, prediction)\n",
    "print(\"Testing Accuracy of MBGD Regularized:\", str(round(accuracy*100, 2)) + \"%\")\n"
   ]
  },
  {
   "cell_type": "markdown",
   "metadata": {},
   "source": [
    "# 6. Parameters tuning"
   ]
  },
  {
   "cell_type": "markdown",
   "metadata": {},
   "source": [
    "### In this section, you may try different combinations of parameters (regularization value, learning rate, etc) to see their effects on the model. (Open ended question)"
   ]
  },
  {
   "cell_type": "code",
   "execution_count": 616,
   "metadata": {},
   "outputs": [
    {
     "data": {
      "image/png": "[encoded data removed]",
      "text/plain": [
       "<Figure size 640x480 with 1 Axes>"
      ]
     },
     "metadata": {},
     "output_type": "display_data"
    }
   ],
   "source": [
    "w = numpy.zeros((d,))\n",
    "lam = 0.001\n",
    "learning_rate = 0.001\n",
    "w, objvals1 = gradient_descent(x_train, y_train, lam, learning_rate, w)\n",
    "\n",
    "lam = 0.1\n",
    "learning_rate = 0.00000000000001\n",
    "w, objvals2 = gradient_descent(x_train, y_train, lam, learning_rate, w)\n",
    "\n",
    "lam = 0.00000000000001\n",
    "learning_rate = 0.1\n",
    "w, objvals3 = gradient_descent(x_train, y_train, lam, learning_rate, w)\n",
    "\n",
    "series_gd = pd.Series(objvals1).plot(label=\"lam: 0.001, lr: 0.001\")\n",
    "series_gd = pd.Series(objvals2).plot(label=\"lam: 0.1, lr: 0.00000000000001\")\n",
    "series_gd = pd.Series(objvals3).plot(label=\"lam: 0.00000000000001, lr: 0.1\")\n",
    "\n",
    "plt.title('Comparison of GD')\n",
    "plt.ylabel('Objective Values')\n",
    "plt.xlabel('Epochs')\n",
    "plt.legend()\n",
    "plt.show()\n"
   ]
  }
 ],
 "metadata": {
  "kernelspec": {
   "display_name": "Python 3",
   "language": "python",
   "name": "python3"
  },
  "language_info": {
   "codemirror_mode": {
    "name": "ipython",
    "version": 3
   },
   "file_extension": ".py",
   "mimetype": "text/x-python",
   "name": "python",
   "nbconvert_exporter": "python",
   "pygments_lexer": "ipython3",
   "version": "3.11.8"
  }
 },
 "nbformat": 4,
 "nbformat_minor": 2
}
